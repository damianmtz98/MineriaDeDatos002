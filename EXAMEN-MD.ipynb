{
 "cells": [
  {
   "cell_type": "markdown",
   "id": "1242d167",
   "metadata": {},
   "source": [
    "# Mineria de datos"
   ]
  },
  {
   "cell_type": "markdown",
   "id": "be79caf7",
   "metadata": {},
   "source": [
    "* Nombre: Damian Atilano Martinez Alvarado  1735532"
   ]
  },
  {
   "cell_type": "markdown",
   "id": "632ab5f7",
   "metadata": {},
   "source": [
    "## World Marathon Majors"
   ]
  },
  {
   "cell_type": "markdown",
   "id": "66b3688d",
   "metadata": {},
   "source": [
    "https://www.kaggle.com/emmanuelleai/world-marathons-majors"
   ]
  },
  {
   "cell_type": "markdown",
   "id": "e6a80bcd",
   "metadata": {},
   "source": [
    "### Introduccion"
   ]
  },
  {
   "cell_type": "markdown",
   "id": "ff7501b5",
   "metadata": {},
   "source": [
    "La base de datos con la cual se hizo este proyecto lleva por nombre “World Marathon Majors” esta fue extraída de Kaggle. Principalmente hay que definir que es un maratón, un maratón es una carrera de larga distancia que consiste en recorrer una distancia de 42,195 metros (42.195 km). Este deporte forma parte de los juegos olímpicos y se sabe que tiene procedencia de nuestros ancestros. En este deporte intervienen mujeres tanto como hombres, se considera un deporte muy igualitario alrededor del mundo. Los maratones surgen en cada país no es necesariamente en uno especifico sin embargo se tiene un estándar para poder medir el rendimiento de los mayores atletas alrededor del mundo.\n",
    "\n",
    "\n",
    "**Variables**\n",
    "* Year: Muestra el año en el que ocurrió dicho maratón.\n",
    "* Winner: Muestra el nombre del ganador correspondiente a un maratón en un año en específico.\n",
    "* Gender: Muestra el género del ganador.\n",
    "* Country: Indica el país de procedencia del ganador.\n",
    "* Time: Indica el tiempo que hizo el ganador.\n",
    "* Marathon: Es el país donde se llevó acabo el maratón.\n",
    "\n",
    "Una de las principales razones por las cuales decidi tomar esta base de datos es debido a que simple vista no brinda al usuario informacion concreta a simple vista, asi que mediante la tecnica de visualizacion poder brindar informacion al usuario.\n"
   ]
  },
  {
   "cell_type": "markdown",
   "id": "dce25170",
   "metadata": {},
   "source": [
    "#### Objetivos\n",
    "\n",
    "**Principal:** Utilizar la tecnica de visualizacion para que nos permitan observar datos hombres y mujeres que fueron ganadores en un maratón, y poder hacer algunas conclusiones respecto a estos.\n",
    "\n",
    "**Secundarios:** . Obtener el porcentaje de hombres y mujeres dentro del total de corredores a nivel mundial y visualizar estos datos en una gráfica. Y el otro objetivo es Obtener los 10 países que tienen mejores tiempos dentro de los maratones sin importar el año en el que se realizo dicho maratón."
   ]
  },
  {
   "cell_type": "markdown",
   "id": "02bd97ac",
   "metadata": {},
   "source": [
    "## Limpieza\n",
    "Durante este paso lo que se hizo fue extraer la base de datos desde el archivo .csv que nos brinda la pagina de Kaggle, se realiza la extraccion del archivo gracias a la libreria de pandas y se obtiene lo siguiente."
   ]
  },
  {
   "cell_type": "code",
   "execution_count": 13,
   "id": "898674da",
   "metadata": {},
   "outputs": [],
   "source": [
    "import numpy as np\n",
    "import matplotlib.pyplot as plt\n",
    "import pandas as pd\n",
    "import seaborn as sns"
   ]
  },
  {
   "cell_type": "code",
   "execution_count": 5,
   "id": "f337f239",
   "metadata": {},
   "outputs": [
    {
     "data": {
      "text/html": [
       "<div>\n",
       "<style scoped>\n",
       "    .dataframe tbody tr th:only-of-type {\n",
       "        vertical-align: middle;\n",
       "    }\n",
       "\n",
       "    .dataframe tbody tr th {\n",
       "        vertical-align: top;\n",
       "    }\n",
       "\n",
       "    .dataframe thead th {\n",
       "        text-align: right;\n",
       "    }\n",
       "</style>\n",
       "<table border=\"1\" class=\"dataframe\">\n",
       "  <thead>\n",
       "    <tr style=\"text-align: right;\">\n",
       "      <th></th>\n",
       "      <th>year</th>\n",
       "      <th>winner</th>\n",
       "      <th>gender</th>\n",
       "      <th>country</th>\n",
       "      <th>time</th>\n",
       "      <th>marathon</th>\n",
       "      <th>Unnamed: 6</th>\n",
       "      <th>Unnamed: 7</th>\n",
       "    </tr>\n",
       "  </thead>\n",
       "  <tbody>\n",
       "    <tr>\n",
       "      <th>0</th>\n",
       "      <td>2018</td>\n",
       "      <td>Dickson Chumba</td>\n",
       "      <td>Male</td>\n",
       "      <td>Kenya</td>\n",
       "      <td>2.091667</td>\n",
       "      <td>Tokyo</td>\n",
       "      <td>NaN</td>\n",
       "      <td>NaN</td>\n",
       "    </tr>\n",
       "    <tr>\n",
       "      <th>1</th>\n",
       "      <td>2018</td>\n",
       "      <td>Birhane Dibaba</td>\n",
       "      <td>Female</td>\n",
       "      <td>Ethiopia</td>\n",
       "      <td>2.330833</td>\n",
       "      <td>Tokyo</td>\n",
       "      <td>NaN</td>\n",
       "      <td>NaN</td>\n",
       "    </tr>\n",
       "    <tr>\n",
       "      <th>2</th>\n",
       "      <td>2017</td>\n",
       "      <td>Wilson Kipsang</td>\n",
       "      <td>Male</td>\n",
       "      <td>Kenya</td>\n",
       "      <td>2.066111</td>\n",
       "      <td>Tokyo</td>\n",
       "      <td>NaN</td>\n",
       "      <td>NaN</td>\n",
       "    </tr>\n",
       "    <tr>\n",
       "      <th>3</th>\n",
       "      <td>2017</td>\n",
       "      <td>Sarah Chepchirchir</td>\n",
       "      <td>Female</td>\n",
       "      <td>Kenya</td>\n",
       "      <td>2.329722</td>\n",
       "      <td>Tokyo</td>\n",
       "      <td>NaN</td>\n",
       "      <td>NaN</td>\n",
       "    </tr>\n",
       "    <tr>\n",
       "      <th>4</th>\n",
       "      <td>2016</td>\n",
       "      <td>Feyisa Lilesa</td>\n",
       "      <td>Male</td>\n",
       "      <td>Ethiopia</td>\n",
       "      <td>2.115556</td>\n",
       "      <td>Tokyo</td>\n",
       "      <td>NaN</td>\n",
       "      <td>NaN</td>\n",
       "    </tr>\n",
       "    <tr>\n",
       "      <th>...</th>\n",
       "      <td>...</td>\n",
       "      <td>...</td>\n",
       "      <td>...</td>\n",
       "      <td>...</td>\n",
       "      <td>...</td>\n",
       "      <td>...</td>\n",
       "      <td>...</td>\n",
       "      <td>...</td>\n",
       "    </tr>\n",
       "    <tr>\n",
       "      <th>531</th>\n",
       "      <td>1978</td>\n",
       "      <td>Mark Stanforth</td>\n",
       "      <td>Male</td>\n",
       "      <td>United States</td>\n",
       "      <td>2.322222</td>\n",
       "      <td>Chicago</td>\n",
       "      <td>NaN</td>\n",
       "      <td>NaN</td>\n",
       "    </tr>\n",
       "    <tr>\n",
       "      <th>532</th>\n",
       "      <td>1978</td>\n",
       "      <td>Lynae Larson</td>\n",
       "      <td>Female</td>\n",
       "      <td>United States</td>\n",
       "      <td>2.990278</td>\n",
       "      <td>Chicago</td>\n",
       "      <td>NaN</td>\n",
       "      <td>NaN</td>\n",
       "    </tr>\n",
       "    <tr>\n",
       "      <th>533</th>\n",
       "      <td>1977</td>\n",
       "      <td>Dan Cloeter</td>\n",
       "      <td>Male</td>\n",
       "      <td>United States</td>\n",
       "      <td>2.297778</td>\n",
       "      <td>Chicago</td>\n",
       "      <td>NaN</td>\n",
       "      <td>NaN</td>\n",
       "    </tr>\n",
       "    <tr>\n",
       "      <th>534</th>\n",
       "      <td>1977</td>\n",
       "      <td>Dorothy Doolittle</td>\n",
       "      <td>Female</td>\n",
       "      <td>United States</td>\n",
       "      <td>2.846389</td>\n",
       "      <td>Chicago</td>\n",
       "      <td>NaN</td>\n",
       "      <td>NaN</td>\n",
       "    </tr>\n",
       "    <tr>\n",
       "      <th>535</th>\n",
       "      <td>2018</td>\n",
       "      <td>Vivian Cheruiyot</td>\n",
       "      <td>Female</td>\n",
       "      <td>Kenya</td>\n",
       "      <td>2.308611</td>\n",
       "      <td>London</td>\n",
       "      <td>NaN</td>\n",
       "      <td>NaN</td>\n",
       "    </tr>\n",
       "  </tbody>\n",
       "</table>\n",
       "<p>536 rows × 8 columns</p>\n",
       "</div>"
      ],
      "text/plain": [
       "     year              winner  gender        country      time marathon  \\\n",
       "0    2018      Dickson Chumba    Male          Kenya  2.091667    Tokyo   \n",
       "1    2018      Birhane Dibaba  Female       Ethiopia  2.330833    Tokyo   \n",
       "2    2017      Wilson Kipsang    Male          Kenya  2.066111    Tokyo   \n",
       "3    2017  Sarah Chepchirchir  Female          Kenya  2.329722    Tokyo   \n",
       "4    2016       Feyisa Lilesa    Male       Ethiopia  2.115556    Tokyo   \n",
       "..    ...                 ...     ...            ...       ...      ...   \n",
       "531  1978      Mark Stanforth    Male  United States  2.322222  Chicago   \n",
       "532  1978        Lynae Larson  Female  United States  2.990278  Chicago   \n",
       "533  1977         Dan Cloeter    Male  United States  2.297778  Chicago   \n",
       "534  1977   Dorothy Doolittle  Female  United States  2.846389  Chicago   \n",
       "535  2018    Vivian Cheruiyot  Female          Kenya  2.308611   London   \n",
       "\n",
       "     Unnamed: 6  Unnamed: 7  \n",
       "0           NaN         NaN  \n",
       "1           NaN         NaN  \n",
       "2           NaN         NaN  \n",
       "3           NaN         NaN  \n",
       "4           NaN         NaN  \n",
       "..          ...         ...  \n",
       "531         NaN         NaN  \n",
       "532         NaN         NaN  \n",
       "533         NaN         NaN  \n",
       "534         NaN         NaN  \n",
       "535         NaN         NaN  \n",
       "\n",
       "[536 rows x 8 columns]"
      ]
     },
     "execution_count": 5,
     "metadata": {},
     "output_type": "execute_result"
    }
   ],
   "source": [
    "data_set=pd.read_csv(\"world_marathon_majors.csv\")\n",
    "data_set"
   ]
  },
  {
   "cell_type": "markdown",
   "id": "5bcc9c38",
   "metadata": {},
   "source": [
    "Como se puede observar el la base de datos tiene 6 columnas y 536 filas en cada una de ellas datos que corresponden a esa variable."
   ]
  },
  {
   "cell_type": "markdown",
   "id": "6140ac48",
   "metadata": {},
   "source": [
    "**Nombre de columnas**"
   ]
  },
  {
   "cell_type": "code",
   "execution_count": 19,
   "id": "510b8290",
   "metadata": {},
   "outputs": [
    {
     "data": {
      "text/plain": [
       "Index(['year', 'winner', 'gender', 'country', 'time', 'marathon', 'Unnamed: 6',\n",
       "       'Unnamed: 7'],\n",
       "      dtype='object')"
      ]
     },
     "execution_count": 19,
     "metadata": {},
     "output_type": "execute_result"
    }
   ],
   "source": [
    "data_set.columns"
   ]
  },
  {
   "cell_type": "markdown",
   "id": "c37022f8",
   "metadata": {},
   "source": [
    "En este apartado se muestran los titulos que corresponden a cada una de las 6 columnas que conforman nla base de datos."
   ]
  },
  {
   "cell_type": "markdown",
   "id": "72f56c1a",
   "metadata": {},
   "source": [
    "**Busqueda de datos nulos**"
   ]
  },
  {
   "cell_type": "code",
   "execution_count": 20,
   "id": "f436935f",
   "metadata": {},
   "outputs": [
    {
     "data": {
      "text/plain": [
       "year          False\n",
       "winner        False\n",
       "gender        False\n",
       "country       False\n",
       "time          False\n",
       "marathon      False\n",
       "Unnamed: 6     True\n",
       "Unnamed: 7     True\n",
       "dtype: bool"
      ]
     },
     "execution_count": 20,
     "metadata": {},
     "output_type": "execute_result"
    }
   ],
   "source": [
    "data_set.isnull().any()"
   ]
  },
  {
   "cell_type": "markdown",
   "id": "afaac789",
   "metadata": {},
   "source": [
    "En este apartado se llevo acabo la busqueda de datos nulos, esto con el fin de que no se cause ningun problema al momento de realizar un proceso en un futro. si dentro de esta se encontraran datos nulos deberia de arrojar un \"True\""
   ]
  },
  {
   "cell_type": "markdown",
   "id": "91eb065e",
   "metadata": {},
   "source": [
    "Dentro del apartado de limpieza no se elimino ningun tipo de Varibale ya que se sabe qeu se puede obtener informacion acerca de todas ellas."
   ]
  },
  {
   "cell_type": "markdown",
   "id": "378d04f3",
   "metadata": {},
   "source": [
    "## Análisis Estadístico"
   ]
  },
  {
   "cell_type": "markdown",
   "id": "ed1d2af0",
   "metadata": {},
   "source": [
    "**Year**"
   ]
  },
  {
   "cell_type": "code",
   "execution_count": 15,
   "id": "39af6244",
   "metadata": {},
   "outputs": [
    {
     "name": "stdout",
     "output_type": "stream",
     "text": [
      "2014    13\n",
      "2007    12\n",
      "2013    12\n",
      "2008    12\n",
      "2009    12\n",
      "        ..\n",
      "1934     1\n",
      "1933     1\n",
      "1932     1\n",
      "1931     1\n",
      "1958     1\n",
      "Name: year, Length: 121, dtype: int64\n"
     ]
    }
   ],
   "source": [
    "print(data_set[\"year\"].value_counts())"
   ]
  },
  {
   "cell_type": "markdown",
   "id": "c1fa43bc",
   "metadata": {},
   "source": [
    "En este apartado se muestra la cantidad de veces que se repite cada año esto indica que entre mas frecuencia tenga un año, es porque tuvo mas presencia de maratones importantes."
   ]
  },
  {
   "cell_type": "markdown",
   "id": "46f6329e",
   "metadata": {},
   "source": [
    "**Gender**"
   ]
  },
  {
   "cell_type": "code",
   "execution_count": 22,
   "id": "5d17926c",
   "metadata": {},
   "outputs": [
    {
     "name": "stdout",
     "output_type": "stream",
     "text": [
      "Male      303\n",
      "Female    233\n",
      "Name: gender, dtype: int64\n"
     ]
    }
   ],
   "source": [
    "print(data_set[\"gender\"].value_counts())"
   ]
  },
  {
   "cell_type": "markdown",
   "id": "adc4a507",
   "metadata": {},
   "source": [
    "Nos muestra la cantidad de hombres y mujeres que existen dentro de la base de datos."
   ]
  },
  {
   "cell_type": "markdown",
   "id": "5033175c",
   "metadata": {},
   "source": [
    "#### Resumen Estadistico"
   ]
  },
  {
   "cell_type": "code",
   "execution_count": 23,
   "id": "50f089e9",
   "metadata": {},
   "outputs": [
    {
     "data": {
      "text/plain": [
       "count    536.000000\n",
       "mean       2.358262\n",
       "std        0.238054\n",
       "min        2.049167\n",
       "25%        2.161944\n",
       "50%        2.352083\n",
       "75%        2.460069\n",
       "max        3.500000\n",
       "Name: time, dtype: float64"
      ]
     },
     "execution_count": 23,
     "metadata": {},
     "output_type": "execute_result"
    }
   ],
   "source": [
    "data_set[\"time\"].describe()"
   ]
  },
  {
   "cell_type": "markdown",
   "id": "d7608b32",
   "metadata": {},
   "source": [
    "Al realizar un analisis estadistico podemos que son 536 tiempos de los ganadores y que la media de un maraton ornsa aldedor de los 2.358262 horas. "
   ]
  },
  {
   "cell_type": "markdown",
   "id": "f1a0c8ac",
   "metadata": {},
   "source": [
    "### Visualizacion de datos"
   ]
  },
  {
   "cell_type": "code",
   "execution_count": 18,
   "id": "0983757f",
   "metadata": {},
   "outputs": [
    {
     "data": {
      "text/plain": [
       "<AxesSubplot:xlabel='gender', ylabel='time'>"
      ]
     },
     "execution_count": 18,
     "metadata": {},
     "output_type": "execute_result"
    },
    {
     "data": {
      "image/png": "[encoded data removed]",
      "text/plain": [
       "<Figure size 432x288 with 1 Axes>"
      ]
     },
     "metadata": {
      "needs_background": "light"
     },
     "output_type": "display_data"
    }
   ],
   "source": [
    "mal=data_set[data_set['gender']==\"Male\"]['time']\n",
    "sns.violinplot( x='gender',y='time', data=data_set)"
   ]
  },
  {
   "cell_type": "code",
   "execution_count": 17,
   "id": "6555d366",
   "metadata": {},
   "outputs": [
    {
     "data": {
      "image/png": "[encoded data removed]",
      "text/plain": [
       "<Figure size 432x288 with 1 Axes>"
      ]
     },
     "metadata": {
      "needs_background": "light"
     },
     "output_type": "display_data"
    }
   ],
   "source": [
    "g=sns.boxplot( x='gender',y='time', data=data_set)"
   ]
  },
  {
   "cell_type": "markdown",
   "id": "da127d03",
   "metadata": {},
   "source": [
    "Se puede observar un poco acerca de los tiempos de hombres y mujeres. Se puede observar que los datos de las mujeres presentan una mayor dispersion debido a los datos atipicos."
   ]
  },
  {
   "cell_type": "code",
   "execution_count": 34,
   "id": "e0bb90f5",
   "metadata": {},
   "outputs": [
    {
     "data": {
      "image/png": "[encoded data removed]",
      "text/plain": [
       "<Figure size 432x288 with 1 Axes>"
      ]
     },
     "metadata": {},
     "output_type": "display_data"
    }
   ],
   "source": [
    "hm=[233,303]\n",
    "etiq=[\"Hombres\", \"Mujeres\"]\n",
    "colores=(\"blue\",\"pink\")\n",
    "plt.pie(hm, labels=etiq,autopct=\"%0.1f %%\",colors=colores)\n",
    "plt.axis(\"equal\")\n",
    "plt.show()"
   ]
  },
  {
   "cell_type": "markdown",
   "id": "4459079e",
   "metadata": {},
   "source": [
    "En el grafico de pastel se puede observar que las mujeres tienen mas participacion que los hombres. Las mujeres representan el 56.5%, mientras que los hombres representan el 43.5%"
   ]
  },
  {
   "cell_type": "code",
   "execution_count": 36,
   "id": "40df7611",
   "metadata": {},
   "outputs": [
    {
     "name": "stdout",
     "output_type": "stream",
     "text": [
      "AxesSubplot(0.125,0.125;0.775x0.755)\n"
     ]
    },
    {
     "data": {
      "image/png": "[encoded data removed]",
      "text/plain": [
       "<Figure size 432x288 with 1 Axes>"
      ]
     },
     "metadata": {
      "needs_background": "light"
     },
     "output_type": "display_data"
    }
   ],
   "source": [
    "print(data_set[\"country\"].value_counts().head(15).plot.bar())"
   ]
  },
  {
   "cell_type": "markdown",
   "id": "870c6df1",
   "metadata": {},
   "source": [
    "En el grafico se pueden observar los primeros 15 paises que cuentas con mas maratones ganados a nivel mundial, se puede observar que Kenya es el pais con mas maratones ganados. Podriamos deducir que el nivel deportivo que tiene Kenya es muy bueno. Pero habria que realizar un estudio de porque Kenya sobre pasa a los demas paises en gran manera."
   ]
  },
  {
   "cell_type": "code",
   "execution_count": 38,
   "id": "bcdad959",
   "metadata": {},
   "outputs": [
    {
     "name": "stdout",
     "output_type": "stream",
     "text": [
      "AxesSubplot(0.125,0.125;0.775x0.755)\n"
     ]
    },
    {
     "data": {
      "image/png": "[encoded data removed]",
      "text/plain": [
       "<Figure size 432x288 with 1 Axes>"
      ]
     },
     "metadata": {
      "needs_background": "light"
     },
     "output_type": "display_data"
    }
   ],
   "source": [
    "print(data_set[\"marathon\"].value_counts().head(6).plot.bar())"
   ]
  },
  {
   "cell_type": "markdown",
   "id": "d4e52fef",
   "metadata": {},
   "source": [
    "La grafica de barras muestra la frecuencia de las ciudades que han sido alfitriones de los maratones a nivel mundial."
   ]
  },
  {
   "cell_type": "markdown",
   "id": "7f0e73b3",
   "metadata": {},
   "source": [
    "## Conclusión global\n",
    "Se utilizaron los recursos que se tenian disponibles para esta base cuando al principio parecia no presentar podemos ver como la tecnica de Visualizacion nos permite observar datos y los patrones que estos presentan. A simple vista una tabla no nos brinda la informacion mas certera o incluso ni nos puede explicar nada, pero al momento de plasmar esa informacion se observan que porcentaje de hombres o muujeres han sido ganadores de los mejores maratones anivel mundial.\n",
    "La limpieza es una parte fundamental de una investugacion ya que esta nos permite entregar la mejor calidad de infomracion para el lector y tambien facilita los procesos a futuro que se llevaron durante el procesoso del proyecto. Los objetivos establecidos se pudieron lograr gracias a la tecnica de visualizacion es importante saber reconocer que tecnica aplican en cada base de acuerdo a ala informacion dada."
   ]
  },
  {
   "cell_type": "code",
   "execution_count": null,
   "id": "183cbd00",
   "metadata": {},
   "outputs": [],
   "source": []
  }
 ],
 "metadata": {
  "kernelspec": {
   "display_name": "Python 3",
   "language": "python",
   "name": "python3"
  },
  "language_info": {
   "codemirror_mode": {
    "name": "ipython",
    "version": 3
   },
   "file_extension": ".py",
   "mimetype": "text/x-python",
   "name": "python",
   "nbconvert_exporter": "python",
   "pygments_lexer": "ipython3",
   "version": "3.8.8"
  }
 },
 "nbformat": 4,
 "nbformat_minor": 5
}
