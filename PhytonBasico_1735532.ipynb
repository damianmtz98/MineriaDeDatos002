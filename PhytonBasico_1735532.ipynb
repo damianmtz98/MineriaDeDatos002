{
 "cells": [
  {
   "cell_type": "code",
   "execution_count": 1,
   "metadata": {},
   "outputs": [
    {
     "name": "stdout",
     "output_type": "stream",
     "text": [
      "Damian\n"
     ]
    }
   ],
   "source": [
    "print(\"Damian\")"
   ]
  },
  {
   "cell_type": "markdown",
   "metadata": {},
   "source": [
    "# Ejercicio 1\n",
    "Realiza una variable con tu matricula y realiza una secuencia de imprimir con tu nombre y tu matricula concatenados."
   ]
  },
  {
   "cell_type": "code",
   "execution_count": 7,
   "metadata": {},
   "outputs": [
    {
     "name": "stdout",
     "output_type": "stream",
     "text": [
      "Hola Damian 1735532\n"
     ]
    }
   ],
   "source": [
    "n = \"Damian\"\n",
    "m = \"1735532\"\n",
    "c= n + \" \" + m\n",
    "print(\"Hola\",c)"
   ]
  },
  {
   "cell_type": "markdown",
   "metadata": {},
   "source": [
    "# Ejercicio 2\n",
    "Pidiendo el input del usuario pide dos números y crea una pequeña calculadora con los operadores básicos de suma, resta, multiplicación, división, y exponente.\n",
    "Utilizando el loop de while"
   ]
  },
  {
   "cell_type": "code",
   "execution_count": 47,
   "metadata": {},
   "outputs": [
    {
     "name": "stdout",
     "output_type": "stream",
     "text": [
      "**********CALCULADORA**********\n",
      "1.Suma\n",
      "2.Resta\n",
      "3.Multiplicacion\n",
      "4.Division\n",
      "5.Exponente\n",
      "0.Salir\n",
      "Introduce la operacion que deseas realizar: 5\n",
      "Introdcue el primer numero: 5\n",
      "Introduce el segundo numero: 2\n",
      "El resultado de A ** B es:  25.0\n",
      "**********CALCULADORA**********\n",
      "1.Suma\n",
      "2.Resta\n",
      "3.Multiplicacion\n",
      "4.Division\n",
      "5.Exponente\n",
      "0.Salir\n",
      "Introduce la operacion que deseas realizar: 0\n",
      "Apagando calculadora....\n",
      "Ya ha salido de la calculadora\n"
     ]
    }
   ],
   "source": [
    "\n",
    "\n",
    "\n",
    "\n",
    "opcion = 10\n",
    "while opcion!=0:\n",
    "    print(\"**********CALCULADORA**********\")\n",
    "    print(\"1.Suma\")\n",
    "    print(\"2.Resta\")\n",
    "    print(\"3.Multiplicacion\")\n",
    "    print(\"4.Division\")\n",
    "    print(\"5.Exponente\")\n",
    "    print(\"0.Salir\")\n",
    "    opcion = int(input(\"Introduce la operacion que deseas realizar: \"))\n",
    "   \n",
    "    if opcion == 1:\n",
    "        a = float(input(\"Introdcue el primer numero: \"))\n",
    "        b = float(input(\"Introduce el segundo numero: \"))\n",
    "        r = a + b\n",
    "        print(\"El resultado de A + B es: \",r)\n",
    "    elif opcion == 2:\n",
    "        a = float(input(\"Introdcue el primer numero: \"))\n",
    "        b = float(input(\"Introduce el segundo numero: \"))\n",
    "        r = a - b\n",
    "        print(\"El resultado de A - B es: \",r)\n",
    "    elif opcion == 3:\n",
    "        a = float(input(\"Introdcue el primer numero: \"))\n",
    "        b = float(input(\"Introduce el segundo numero: \"))\n",
    "        r = a * b\n",
    "        print(\"El resultado de A * B es: \",r)\n",
    "    elif opcion == 4:\n",
    "        a = float(input(\"Introdcue el primer numero: \"))\n",
    "        b = float(input(\"Introduce el segundo numero: \"))\n",
    "        r = float(a)/b\n",
    "        print(\"El resultado de A / B es: \",r)\n",
    "    elif opcion == 5:\n",
    "        a = float(input(\"Introdcue el primer numero: \"))\n",
    "        b = float(input(\"Introduce el segundo numero: \"))\n",
    "        r = a**b\n",
    "        print(\"El resultado de A ** B es: \",r)\n",
    "    else:\n",
    "        print(\"Apagando calculadora....\")\n",
    "        \n",
    "\n",
    "print(\"Ya ha salido de la calculadora\")\n",
    "    \n",
    "    \n",
    "\n"
   ]
  },
  {
   "cell_type": "markdown",
   "metadata": {},
   "source": [
    "# Ejercicio 3\n",
    "Con loop while o for, realiza una lista de 10 numeros multiplos de 3, y después realiza una función de loop que sume todos los números dentro del arreglo."
   ]
  },
  {
   "cell_type": "code",
   "execution_count": 30,
   "metadata": {},
   "outputs": [
    {
     "name": "stdout",
     "output_type": "stream",
     "text": [
      "La lista es:  [3, 6, 9, 12, 15, 18, 21, 24, 27, 30]\n",
      "La suma del arreglo es:  165\n"
     ]
    }
   ],
   "source": [
    "lis = []\n",
    "for i in range(0,10,1):\n",
    "    lis.append((i+1)*3)\n",
    "\n",
    "print(\"La lista es: \",lis)\n",
    "s=0\n",
    "for i in range(0,10,1):\n",
    "    s=s+lis[i]\n",
    "    \n",
    "print(\"La suma del arreglo es: \",s)"
   ]
  },
  {
   "cell_type": "markdown",
   "metadata": {},
   "source": [
    "# Ejercicio 4\n",
    "* Con una función de if else, revisar si un número es par o es impar.\n",
    "* Con una función de if else, revisar si un número es primo o no.\n"
   ]
  },
  {
   "cell_type": "code",
   "execution_count": 40,
   "metadata": {},
   "outputs": [
    {
     "name": "stdout",
     "output_type": "stream",
     "text": [
      "Introduce un numero: 100\n",
      "El numero tecleado  100 es un numero par\n",
      "El numero tecleado 100 no es primo\n"
     ]
    }
   ],
   "source": [
    "num = int(input(\"Introduce un numero: \"))\n",
    "if num%2==0:\n",
    "    print(\"El numero tecleado \",num,\"es un numero par\")\n",
    "else:\n",
    "    print(\"El numero tecleado \",num,\"es un numero impar\")\n",
    "\n",
    "c=0\n",
    "primo = 0\n",
    "for i in range(1,num+1):\n",
    "    if (num%i)==0:\n",
    "        c=c+1\n",
    "    if c>=3:\n",
    "        primo= 1\n",
    "        break\n",
    "        \n",
    "if c==2 or primo==0:\n",
    "    print(\"El numero tecleado\", num,\" es primo\")\n",
    "else:\n",
    "    print(\"El numero tecleado\", num,\"no es primo\")"
   ]
  },
  {
   "cell_type": "markdown",
   "metadata": {},
   "source": [
    "# Ejercicio 5\n",
    "Utilizando diferentes clases en python, crea una calculadora con los operadores básicos de suma, resta, multiplicación, división, y exponente."
   ]
  },
  {
   "cell_type": "code",
   "execution_count": 48,
   "metadata": {},
   "outputs": [
    {
     "name": "stdout",
     "output_type": "stream",
     "text": [
      "**********CALCULADORA**********\n",
      "1.Suma\n",
      "2.Resta\n",
      "3.Multiplicacion\n",
      "4.Division\n",
      "5.Exponente\n",
      "0.Salir\n",
      "Introduce la operacion que deseas realizar: 1\n",
      "Introdcue el primer numero: 5\n",
      "Introduce el segundo numero: 6\n",
      "El resultado de A + B es:  11.0\n",
      "**********CALCULADORA**********\n",
      "1.Suma\n",
      "2.Resta\n",
      "3.Multiplicacion\n",
      "4.Division\n",
      "5.Exponente\n",
      "0.Salir\n",
      "Introduce la operacion que deseas realizar: 0\n",
      "Apagando calculadora....\n",
      "Ya ha salido de la calculadora\n"
     ]
    }
   ],
   "source": [
    "def s(a,b):\n",
    "    return a+b\n",
    "def r(a,b):\n",
    "    return a-b\n",
    "def m(a,b):\n",
    "    return a*b\n",
    "def d(a,b):\n",
    "    return a/b\n",
    "def e(a,b):\n",
    "    return a**b\n",
    "\n",
    "\n",
    "opcion = 10\n",
    "while opcion!=0:\n",
    "    print(\"**********CALCULADORA**********\")\n",
    "    print(\"1.Suma\")\n",
    "    print(\"2.Resta\")\n",
    "    print(\"3.Multiplicacion\")\n",
    "    print(\"4.Division\")\n",
    "    print(\"5.Exponente\")\n",
    "    print(\"0.Salir\")\n",
    "    opcion = int(input(\"Introduce la operacion que deseas realizar: \"))\n",
    "   \n",
    "    if opcion == 1:\n",
    "        a = float(input(\"Introdcue el primer numero: \"))\n",
    "        b = float(input(\"Introduce el segundo numero: \"))\n",
    "        res = s(a,b)\n",
    "        print(\"El resultado de A + B es: \",res)\n",
    "    elif opcion == 2:\n",
    "        a = float(input(\"Introdcue el primer numero: \"))\n",
    "        b = float(input(\"Introduce el segundo numero: \"))\n",
    "        res = r(a,b)\n",
    "        print(\"El resultado de A - B es: \",res)\n",
    "    elif opcion == 3:\n",
    "        a = float(input(\"Introdcue el primer numero: \"))\n",
    "        b = float(input(\"Introduce el segundo numero: \"))\n",
    "        res = m(a,b)\n",
    "        print(\"El resultado de A * B es: \",res)\n",
    "    elif opcion == 4:\n",
    "        a = float(input(\"Introdcue el primer numero: \"))\n",
    "        b = float(input(\"Introduce el segundo numero: \"))\n",
    "        res = d(a,b) \n",
    "        print(\"El resultado de A / B es: \",res)\n",
    "    elif opcion == 5:\n",
    "        a = float(input(\"Introdcue el primer numero: \"))\n",
    "        b = float(input(\"Introduce el segundo numero: \"))\n",
    "        res = e(a,b)\n",
    "        print(\"El resultado de A ** B es: \",res)\n",
    "    else:\n",
    "        print(\"Apagando calculadora....\")\n",
    "        \n",
    "\n",
    "print(\"Ya ha salido de la calculadora\")\n",
    "    "
   ]
  },
  {
   "cell_type": "markdown",
   "metadata": {},
   "source": [
    "# Ejercicios con estructuras basicas de Phyton\n",
    "**Tuplas**\n",
    "* Crear una variable flotante, integer, boleana y compleja e imprimir el tipo de variable que es.\n",
    "\n",
    "* Crear una tupla con valores enteros imprimir el primer y ultimo valor.\n",
    "\n",
    "* Añadir 3 valores de string a la tupla.\n",
    "\n",
    "* Verificar si una variable existe dentro de la tupla."
   ]
  },
  {
   "cell_type": "code",
   "execution_count": 5,
   "metadata": {},
   "outputs": [
    {
     "name": "stdout",
     "output_type": "stream",
     "text": [
      "El numero  3.1416 es de tipo <class 'float'>\n",
      "El numero  5 es de tipo <class 'int'>\n",
      "El numero  True es de tipo <class 'bool'>\n",
      "El numero  (3-5j) es de tipo <class 'complex'>\n"
     ]
    }
   ],
   "source": [
    "f=3.1416\n",
    "i=5\n",
    "b=True\n",
    "c=3-5j\n",
    "print(\"El numero \",f,\"es de tipo\",type(f))\n",
    "print(\"El numero \",i,\"es de tipo\",type(i))\n",
    "print(\"El numero \",b,\"es de tipo\",type(b))\n",
    "print(\"El numero \",c,\"es de tipo\",type(c))"
   ]
  },
  {
   "cell_type": "code",
   "execution_count": 7,
   "metadata": {},
   "outputs": [
    {
     "name": "stdout",
     "output_type": "stream",
     "text": [
      "Primer valor es  1 y el ultimo valor es  5\n"
     ]
    }
   ],
   "source": [
    "t=(1,2,3,4,5)\n",
    "print(\"Primer valor es \",t[0],\"y el ultimo valor es \",t[-1])\n"
   ]
  },
  {
   "cell_type": "code",
   "execution_count": 8,
   "metadata": {},
   "outputs": [
    {
     "name": "stdout",
     "output_type": "stream",
     "text": [
      "(1, 2, 3, 4, 5, 'Hola', 'que', 'muchacho')\n"
     ]
    }
   ],
   "source": [
    "t=t+(\"Hola\",\"que\",\"muchacho\")\n",
    "print(t)"
   ]
  },
  {
   "cell_type": "code",
   "execution_count": 9,
   "metadata": {},
   "outputs": [
    {
     "data": {
      "text/plain": [
       "False"
      ]
     },
     "execution_count": 9,
     "metadata": {},
     "output_type": "execute_result"
    }
   ],
   "source": [
    "\"Manuel\" in t"
   ]
  },
  {
   "cell_type": "markdown",
   "metadata": {},
   "source": [
    "### Listas\n",
    "* Crear una lista con 40 elementos aleatorios enteros.\n",
    "* Con una funcion (def) crear dos listas nuevas a partir de la lista creada por numeros aleatorios, en la cual en una esten los elementos pares, y en la otra los elementos impares.\n",
    "* Crear dos variables con la longitud de ambas listas nuevas e imprimir las variables.\n",
    "* Ordenar los elementos de la lista par de mayor a menor, y los de la lista impar de menor a mayor.\n",
    "* Utilizar al menos cuatro de las funciones de listas en python en la lista original de 40 elementos."
   ]
  },
  {
   "cell_type": "code",
   "execution_count": 43,
   "metadata": {},
   "outputs": [
    {
     "name": "stdout",
     "output_type": "stream",
     "text": [
      "[947, 643, 659, 874, 519, 658, 477, 843, 430, 176, 876, 455, 582, 499, 714, 227, 525, 965, 924, 82, 232, 950, 886, 908, 270, 861, 17, 345, 249, 543, 11, 199, 193, 456, 165, 134, 950, 542, 703, 484]\n"
     ]
    }
   ],
   "source": [
    "from random import randint\n",
    "lista=[randint(1,1000) for i in range(40)]\n",
    "\n",
    "print(lista)"
   ]
  },
  {
   "cell_type": "code",
   "execution_count": 22,
   "metadata": {},
   "outputs": [
    {
     "name": "stdout",
     "output_type": "stream",
     "text": [
      "Numeros pares:  [904, 726, 378, 674, 372, 738, 790, 566, 174, 164, 760, 534, 240, 190, 970, 762, 298, 412, 314, 334, 518]\n",
      "Numeros impares:  [473, 203, 443, 447, 971, 925, 235, 679, 97, 739, 739, 915, 55, 799, 87, 9, 161, 487, 145]\n"
     ]
    }
   ],
   "source": [
    "def pareimpar(lista):\n",
    "    par=[]\n",
    "    impar=[]\n",
    "    for i in range(len(lista)):\n",
    "        if lista[i]%2==0:\n",
    "            par.append(lista[i])\n",
    "        else:\n",
    "            impar.append(lista[i])\n",
    "        \n",
    "    return par,impar\n",
    "\n",
    "par,impar=pareimpar(lista)\n",
    "print(\"Numeros pares: \", par)\n",
    "print(\"Numeros impares: \",impar)"
   ]
  },
  {
   "cell_type": "code",
   "execution_count": 23,
   "metadata": {},
   "outputs": [
    {
     "name": "stdout",
     "output_type": "stream",
     "text": [
      "La longitud de los pares es:  21\n",
      "La longitud de los impares es:  19\n"
     ]
    }
   ],
   "source": [
    "lp=len(par)\n",
    "li=len(impar)\n",
    "print(\"La longitud de los pares es: \",lp)\n",
    "print(\"La longitud de los impares es: \",li)"
   ]
  },
  {
   "cell_type": "code",
   "execution_count": 24,
   "metadata": {},
   "outputs": [
    {
     "name": "stdout",
     "output_type": "stream",
     "text": [
      "Pares ordenados de mayor a menor:  [970, 904, 790, 762, 760, 738, 726, 674, 566, 534, 518, 412, 378, 372, 334, 314, 298, 240, 190, 174, 164]\n",
      "Pares ordenados de menor a mayor:  [9, 55, 87, 97, 145, 161, 203, 235, 443, 447, 473, 487, 679, 739, 739, 799, 915, 925, 971]\n"
     ]
    }
   ],
   "source": [
    "par.sort(reverse=True)\n",
    "impar.sort()\n",
    "print(\"Pares ordenados de mayor a menor: \",par)\n",
    "print(\"Pares ordenados de menor a mayor: \",impar)"
   ]
  },
  {
   "cell_type": "code",
   "execution_count": 32,
   "metadata": {},
   "outputs": [
    {
     "name": "stdout",
     "output_type": "stream",
     "text": [
      "[5, 452, 199, 517, 197, 634, 402, 238, 458, 276, 246, 412, 352, 662, 622, 415, 759, 72, 312, 147, 205, 880, 899, 434, 148, 525, 747, 642, 929, 853, 294, 34, 326, 96, 674, 898, 232, 475, 75]\n"
     ]
    }
   ],
   "source": [
    "from random import randint\n",
    "lista=[randint(1,1000) for _ in range(40)]\n",
    "\n",
    "lista.pop(3)\n",
    "print(lista)"
   ]
  },
  {
   "cell_type": "code",
   "execution_count": 33,
   "metadata": {},
   "outputs": [
    {
     "name": "stdout",
     "output_type": "stream",
     "text": [
      "[5, 'hola', 452, 199, 517, 197, 634, 402, 238, 458, 276, 246, 412, 352, 662, 622, 415, 759, 72, 312, 147, 205, 880, 899, 434, 148, 525, 747, 642, 929, 853, 294, 34, 326, 96, 674, 898, 232, 475, 75]\n"
     ]
    }
   ],
   "source": [
    "lista.insert(1,\"hola\")\n",
    "print(lista)"
   ]
  },
  {
   "cell_type": "code",
   "execution_count": 34,
   "metadata": {},
   "outputs": [
    {
     "name": "stdout",
     "output_type": "stream",
     "text": [
      "[75, 475, 232, 898, 674, 96, 326, 34, 294, 853, 929, 642, 747, 525, 148, 434, 899, 880, 205, 147, 312, 72, 759, 415, 622, 662, 352, 412, 246, 276, 458, 238, 402, 634, 197, 517, 199, 452, 'hola', 5]\n"
     ]
    }
   ],
   "source": [
    "lista.reverse()\n",
    "print(lista)"
   ]
  },
  {
   "cell_type": "code",
   "execution_count": 35,
   "metadata": {},
   "outputs": [
    {
     "name": "stdout",
     "output_type": "stream",
     "text": [
      "38\n"
     ]
    }
   ],
   "source": [
    "print(lista.index(\"hola\"))"
   ]
  },
  {
   "cell_type": "markdown",
   "metadata": {},
   "source": [
    "***Diccionarios***\n",
    "* Crear un diccionario de 6 personas que conozcas con su primer nombre y su edad.\n",
    "* Crear una lista con los valores de la edad y reacomodar la lista de menor a mayor valor.\n",
    "* Usando el diccionario y un loop, imprimir solo los nombres.\n",
    "* Añadir dos personas nuevas a tu diccionario, incluyendo edad.\n",
    "\n"
   ]
  },
  {
   "cell_type": "code",
   "execution_count": 3,
   "metadata": {},
   "outputs": [
    {
     "name": "stdout",
     "output_type": "stream",
     "text": [
      "{'Damian': 20, 'David': 21, 'Kevin': 25, 'Samuel': 13, 'Victor': 22, 'Rafael': 28}\n"
     ]
    }
   ],
   "source": [
    "d={\"Damian\":20,\"David\":21,\"Kevin\":25,\"Samuel\":13,\"Victor\":22,\"Rafael\":28}\n",
    "print(d)"
   ]
  },
  {
   "cell_type": "code",
   "execution_count": 4,
   "metadata": {},
   "outputs": [
    {
     "name": "stdout",
     "output_type": "stream",
     "text": [
      "[13, 20, 21, 22, 25, 28]\n"
     ]
    }
   ],
   "source": [
    "e=[i for i in d.values()]\n",
    "\n",
    "e.sort()\n",
    "print(e)"
   ]
  },
  {
   "cell_type": "code",
   "execution_count": 5,
   "metadata": {},
   "outputs": [
    {
     "name": "stdout",
     "output_type": "stream",
     "text": [
      "Damian\n",
      "David\n",
      "Kevin\n",
      "Samuel\n",
      "Victor\n",
      "Rafael\n"
     ]
    }
   ],
   "source": [
    "for i in d:\n",
    "    print(i)"
   ]
  },
  {
   "cell_type": "code",
   "execution_count": 6,
   "metadata": {},
   "outputs": [
    {
     "name": "stdout",
     "output_type": "stream",
     "text": [
      "{'Damian': 20, 'David': 21, 'Kevin': 25, 'Samuel': 13, 'Victor': 22, 'Rafael': 28, 'Nacho': 27, 'Tadeo': 30}\n"
     ]
    }
   ],
   "source": [
    "d[\"Nacho\"]=27\n",
    "d[\"Tadeo\"]=30\n",
    "print(d)"
   ]
  },
  {
   "cell_type": "markdown",
   "metadata": {},
   "source": [
    "#### Sets\n",
    "* Crea un set con 100 numeros aleatorios enteros del 1 al 25.\n",
    "* Comprueba la longitud de tu set.\n",
    "* Crea una lista de 5 numeros aleatorios del 1 al 10 y comprueba si cada valor aparece en el set inicial."
   ]
  },
  {
   "cell_type": "code",
   "execution_count": 46,
   "metadata": {},
   "outputs": [
    {
     "name": "stdout",
     "output_type": "stream",
     "text": [
      "[6, 18, 13, 17, 5, 19, 15, 15, 4, 14, 5, 7, 3, 3, 9, 5, 23, 6, 21, 15, 3, 24, 1, 8, 10, 21, 15, 2, 13, 6, 3, 17, 25, 11, 3, 11, 7, 3, 21, 22, 18, 16, 7, 15, 4, 5, 7, 4, 8, 8, 11, 4, 17, 2, 23, 23, 17, 24, 17, 10, 11, 22, 17, 9, 17, 4, 5, 4, 22, 18, 21, 5, 3, 7, 13, 20, 8, 19, 21, 2, 1, 5, 18, 12, 11, 4, 13, 2, 2, 7, 8, 11, 3, 8, 7, 16, 15, 25, 20, 16]\n"
     ]
    }
   ],
   "source": [
    "from random import randint\n",
    "s=[randint(1,25) for i in range(100)]\n",
    "\n",
    "print(lista)\n"
   ]
  },
  {
   "cell_type": "code",
   "execution_count": 47,
   "metadata": {},
   "outputs": [
    {
     "name": "stdout",
     "output_type": "stream",
     "text": [
      "100\n"
     ]
    }
   ],
   "source": [
    "print(len(s))"
   ]
  },
  {
   "cell_type": "code",
   "execution_count": 50,
   "metadata": {},
   "outputs": [
    {
     "name": "stdout",
     "output_type": "stream",
     "text": [
      "[2, 6, 2, 9, 6]\n",
      "El munero 2 si esta dentro del set inicial\n",
      "El munero 6 si esta dentro del set inicial\n",
      "El munero 2 si esta dentro del set inicial\n",
      "El munero 9 si esta dentro del set inicial\n",
      "El munero 6 si esta dentro del set inicial\n"
     ]
    }
   ],
   "source": [
    "c=[randint(1,10) for i in range(5)]\n",
    "print(c)\n",
    "\n",
    "for i in range(5):\n",
    "    if c[i] in s:\n",
    "        print(\"El munero\",c[i],\"si esta dentro del set inicial\")\n",
    "    else:\n",
    "        print(\"El munero\",c[i],\"no esta dentro del set inicial\")\n",
    "        "
   ]
  }
 ],
 "metadata": {
  "kernelspec": {
   "display_name": "Python 3",
   "language": "python",
   "name": "python3"
  },
  "language_info": {
   "codemirror_mode": {
    "name": "ipython",
    "version": 3
   },
   "file_extension": ".py",
   "mimetype": "text/x-python",
   "name": "python",
   "nbconvert_exporter": "python",
   "pygments_lexer": "ipython3",
   "version": "3.8.3"
  }
 },
 "nbformat": 4,
 "nbformat_minor": 4
}
