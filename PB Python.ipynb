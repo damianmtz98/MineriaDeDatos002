{
 "cells": [
  {
   "cell_type": "markdown",
   "metadata": {},
   "source": [
    "1.\tHaz una función que te imprima listas de números enteros aleatorios con cantidad de 5, 10, 15 elementos. "
   ]
  },
  {
   "cell_type": "code",
   "execution_count": 53,
   "metadata": {},
   "outputs": [
    {
     "name": "stdout",
     "output_type": "stream",
     "text": [
      "([476, 602, 741, 410, 568], [731, 687, 121, 425, 25, 988, 215, 113, 995, 211], [281, 371, 64, 547, 702, 346, 84, 439, 374, 598, 351, 552, 991, 847, 762])\n"
     ]
    }
   ],
   "source": [
    "import random \n",
    "def listaAleatorios():\n",
    "      lista = [0]  * (5)\n",
    "      for i in range(5):\n",
    "          lista[i] = random.randint(0, 1000)\n",
    "      lista1 = [0]  * 10\n",
    "      for i in range(10):\n",
    "          lista1[i] = random.randint(0, 1000)\n",
    "      lista2 = [0]  * 15\n",
    "      for i in range(15):\n",
    "          lista2[i] = random.randint(0, 1000)  \n",
    "      return lista,lista1,lista2\n",
    "\n",
    "aleatorios=listaAleatorios()\n",
    "print(aleatorios)"
   ]
  },
  {
   "cell_type": "markdown",
   "metadata": {},
   "source": [
    "2.\tCon la función que generaste toma la lista de 15, y haz una función que te indique cual de los números es el mayor, y otra que te indique cual es el menor. "
   ]
  },
  {
   "cell_type": "code",
   "execution_count": 46,
   "metadata": {},
   "outputs": [
    {
     "name": "stdout",
     "output_type": "stream",
     "text": [
      "Lista de 15 elementos\n",
      "[197, 63, 775, 319, 279, 123, 255, 156, 661, 738, 728, 358, 932, 569, 350]\n",
      "Mayor =  932\n",
      "Menor =  63\n"
     ]
    }
   ],
   "source": [
    "def mayor15(lista15):\n",
    "    mayor_lis15=max(lista15)\n",
    "    return mayor_lis15\n",
    "\n",
    "def menor15(lista15):\n",
    "    menor_lis15=min(lista15)\n",
    "    return menor_lis15\n",
    "          \n",
    "lista15=aleatorios[2]\n",
    "print(\"Lista de 15 elementos\")\n",
    "print(lista15)\n",
    "ma=mayor15(lista15)\n",
    "me=menor15(lista15)\n",
    "print(\"Mayor = \",ma)\n",
    "print(\"Menor = \",me)"
   ]
  },
  {
   "cell_type": "markdown",
   "metadata": {},
   "source": [
    "3.\tToma las listas y ordénalas de mayor a menor, y de menor a mayor. "
   ]
  },
  {
   "cell_type": "code",
   "execution_count": 56,
   "metadata": {},
   "outputs": [
    {
     "name": "stdout",
     "output_type": "stream",
     "text": [
      "Lista de 5 elementos \n",
      "[741, 602, 568, 476, 410]\n",
      "Lista de 5 elementos menor a mayor\n",
      "[410, 476, 568, 602, 741]\n",
      "Lista de 5 elementos mayor a menor\n",
      "[741, 602, 568, 476, 410]\n",
      "Lista de 10 elementos \n",
      "[731, 687, 121, 425, 25, 988, 215, 113, 995, 211]\n",
      "Lista de 10 elementos menor a mayor\n",
      "[25, 113, 121, 211, 215, 425, 687, 731, 988, 995]\n",
      "Lista de 10 elementos mayor a menor\n",
      "[995, 988, 731, 687, 425, 215, 211, 121, 113, 25]\n",
      "Lista de 15 elementos \n",
      "[197, 63, 775, 319, 279, 123, 255, 156, 661, 738, 728, 358, 932, 569, 350]\n",
      "Lista de 15 elementos menor a mayor\n",
      "[63, 123, 156, 197, 255, 279, 319, 350, 358, 569, 661, 728, 738, 775, 932]\n",
      "Lista de 5 elementos mayor a menor\n",
      "[932, 775, 738, 728, 661, 569, 358, 350, 319, 279, 255, 197, 156, 123, 63]\n"
     ]
    }
   ],
   "source": [
    "lista5=aleatorios[0]\n",
    "lista10=aleatorios[1]\n",
    "print(\"Lista de 5 elementos \")\n",
    "print(lista5)\n",
    "print(\"Lista de 5 elementos menor a mayor\")\n",
    "lista5.sort()\n",
    "print(lista5)\n",
    "print(\"Lista de 5 elementos mayor a menor\")\n",
    "lista5.reverse()\n",
    "print(lista5)\n",
    "print(\"Lista de 10 elementos \")\n",
    "print(lista10)\n",
    "print(\"Lista de 10 elementos menor a mayor\")\n",
    "lista10.sort()\n",
    "print(lista10)\n",
    "print(\"Lista de 10 elementos mayor a menor\")\n",
    "lista10.reverse()\n",
    "print(lista10)\n",
    "print(\"Lista de 15 elementos \")\n",
    "print(lista15)\n",
    "print(\"Lista de 15 elementos menor a mayor\")\n",
    "lista15.sort()\n",
    "print(lista15)\n",
    "print(\"Lista de 5 elementos mayor a menor\")\n",
    "lista15.reverse()\n",
    "print(lista15)"
   ]
  },
  {
   "cell_type": "markdown",
   "metadata": {},
   "source": [
    "4.\tHaz una sola lista que contenga todos los elementos pares de las 3 primeras listas. "
   ]
  },
  {
   "cell_type": "code",
   "execution_count": 66,
   "metadata": {},
   "outputs": [
    {
     "name": "stdout",
     "output_type": "stream",
     "text": [
      "[602, 568, 476, 410, 988, 64, 702, 346, 84, 374, 598, 552, 762]\n"
     ]
    }
   ],
   "source": [
    "listapar=[0]*30\n",
    "k=0\n",
    "for i in range(3):\n",
    "    if i == 0:\n",
    "        a1=10\n",
    "    if i == 1:\n",
    "        a1=5\n",
    "    if i == 2:\n",
    "        a1=0\n",
    "    for j in range(15-a1):\n",
    "        if(aleatorios[i][j]%2)==0:\n",
    "            listapar[k]=aleatorios[i][j]\n",
    "            k=k+1\n",
    "\n",
    "lisaux=listapar[:k]\n",
    "print(lisaux)            \n",
    "        "
   ]
  },
  {
   "cell_type": "markdown",
   "metadata": {},
   "source": [
    "5.\tReemplazar todos los números impares del arreglo de 15 elementos del ejercicio 1.) con un -1. "
   ]
  },
  {
   "cell_type": "code",
   "execution_count": 64,
   "metadata": {},
   "outputs": [
    {
     "name": "stdout",
     "output_type": "stream",
     "text": [
      "la nueva lista es:\n",
      "[932, -1, 738, 728, -1, -1, 358, 350, -1, -1, -1, -1, 156, -1, -1]\n"
     ]
    }
   ],
   "source": [
    "for i in range(15):\n",
    "    if(lista15[i]%2)!=0:\n",
    "        lista15[i]=-1\n",
    "        \n",
    "print(\"la nueva lista es:\")\n",
    "print(lista15)"
   ]
  },
  {
   "cell_type": "markdown",
   "metadata": {},
   "source": [
    "6.\tHaz una función que te permita hacer conversiones de grados Celsius a Fahrenheit. "
   ]
  },
  {
   "cell_type": "code",
   "execution_count": 71,
   "metadata": {},
   "outputs": [
    {
     "name": "stdout",
     "output_type": "stream",
     "text": [
      "Ingrese la temperatura en grados Celsius: 56\n",
      "La temperatura en fahrenheit es: \n",
      "132.8\n"
     ]
    }
   ],
   "source": [
    "def cels_fah(cels):\n",
    "    fahr = 9.0/5.0 * cels +32\n",
    "    return fahr\n",
    "\n",
    "cels = int(input('Ingrese la temperatura en grados Celsius: '))\n",
    "print(\"La temperatura en fahrenheit es: \")\n",
    "print(cels_fah(cels))\n",
    "    "
   ]
  },
  {
   "cell_type": "markdown",
   "metadata": {},
   "source": [
    "7.\tHacer relaciones entre los datos de las siguientes listas. El resultado deberá ser una lista con los elementos que se repitan en ambas listas. \n",
    "a.\t= 1, 2, 3, 9, 3, 4, 3, 4, 5, 6, 11\n",
    "b.\t= 10, 6, 5, 7, 11, 12, 4, 5, 9, 66\n"
   ]
  },
  {
   "cell_type": "code",
   "execution_count": 72,
   "metadata": {},
   "outputs": [
    {
     "data": {
      "text/plain": [
       "{4, 5, 6, 9}"
      ]
     },
     "execution_count": 72,
     "metadata": {},
     "output_type": "execute_result"
    }
   ],
   "source": [
    "a=(1, 2, 3, 9, 3, 4, 3, 4, 5, 6)\n",
    "b=(10, 6, 5, 7, 11, 12, 4, 5, 9, 66)\n",
    "print(\"Los elementos que coinciden en la listas a y b son:\")\n",
    "set(a) & set(b)"
   ]
  },
  {
   "cell_type": "code",
   "execution_count": null,
   "metadata": {},
   "outputs": [],
   "source": []
  }
 ],
 "metadata": {
  "kernelspec": {
   "display_name": "Python 3",
   "language": "python",
   "name": "python3"
  },
  "language_info": {
   "codemirror_mode": {
    "name": "ipython",
    "version": 3
   },
   "file_extension": ".py",
   "mimetype": "text/x-python",
   "name": "python",
   "nbconvert_exporter": "python",
   "pygments_lexer": "ipython3",
   "version": "3.8.5"
  }
 },
 "nbformat": 4,
 "nbformat_minor": 4
}
